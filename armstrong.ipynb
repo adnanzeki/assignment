{
  "nbformat": 4,
  "nbformat_minor": 0,
  "metadata": {
    "colab": {
      "name": "armstrong.ipynb",
      "provenance": [],
      "authorship_tag": "ABX9TyOXrpZD9KrOb/c+LxKLLSsR",
      "include_colab_link": true
    },
    "kernelspec": {
      "name": "python3",
      "display_name": "Python 3"
    },
    "language_info": {
      "name": "python"
    }
  },
  "cells": [
    {
      "cell_type": "markdown",
      "metadata": {
        "id": "view-in-github",
        "colab_type": "text"
      },
      "source": [
        "<a href=\"https://colab.research.google.com/github/adnanzeki/assingment/blob/main/armstrong.ipynb\" target=\"_parent\"><img src=\"https://colab.research.google.com/assets/colab-badge.svg\" alt=\"Open In Colab\"/></a>"
      ]
    },
    {
      "cell_type": "code",
      "source": [
        "a = input(\"please enter your number :\")\n",
        "b = list(a)\n",
        "c = len(a)\n",
        "list1 = []\n",
        "set1 = set(\"0123456789\")\n",
        "set2 = set(a)\n",
        "if (set2 - set1) != set():\n",
        "    print(\"It is an invalid entry. Don't use non-numeric, float, or negative values!\")\n",
        "elif float(a) % 1 != 0:\n",
        "    print(\"It is an invalid entry. Don't use non-numeric, float, or negative values!\")\n",
        "elif int(a) > 0:\n",
        "    for i in range(c-1,-1,-1):\n",
        "     list1.append(int(b[i])**int(len(a)))\n",
        "    if sum(list1) == int(a):\n",
        "     print(f\"{a} is and armstrong number !\")\n",
        "    elif int(a) > 0:\n",
        "     print(f\"{a} in NOT armstrong number !\")\n",
        "    else:\n",
        "     print(\"try again\")  \n",
        "else:\n",
        "    print(\"It is an invalid entry. Don't use non-numeric, float, or negative values!\")"
      ],
      "metadata": {
        "id": "Sl0ywVugtUn5",
        "outputId": "2e6aac06-d6d0-4b5f-b858-7c7e6100cc94",
        "colab": {
          "base_uri": "https://localhost:8080/"
        }
      },
      "execution_count": 1,
      "outputs": [
        {
          "output_type": "stream",
          "name": "stdout",
          "text": [
            "please enter your number :56\n",
            "56 in NOT armstrong number !\n"
          ]
        }
      ]
    }
  ]
}