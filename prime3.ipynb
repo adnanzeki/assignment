{
  "nbformat": 4,
  "nbformat_minor": 0,
  "metadata": {
    "colab": {
      "name": "prime3.ipynb",
      "provenance": [],
      "authorship_tag": "ABX9TyO7oBpcD6jxtAvwsUv3/B/7",
      "include_colab_link": true
    },
    "kernelspec": {
      "name": "python3",
      "display_name": "Python 3"
    },
    "language_info": {
      "name": "python"
    }
  },
  "cells": [
    {
      "cell_type": "markdown",
      "metadata": {
        "id": "view-in-github",
        "colab_type": "text"
      },
      "source": [
        "<a href=\"https://colab.research.google.com/github/adnanzeki/assingment/blob/main/prime3.ipynb\" target=\"_parent\"><img src=\"https://colab.research.google.com/assets/colab-badge.svg\" alt=\"Open In Colab\"/></a>"
      ]
    },
    {
      "cell_type": "code",
      "source": [
        "x = []\n",
        "for i in range(2,100):\n",
        "    \n",
        "    for j in range(2,i):\n",
        "        if i % j == 0:\n",
        "            break\n",
        "    else:\n",
        "        x.append(i)\n",
        "x"
      ],
      "metadata": {
        "colab": {
          "base_uri": "https://localhost:8080/"
        },
        "id": "ZcidfkvKi88z",
        "outputId": "39d65a4d-881d-4f92-cc55-542b6cd941d9"
      },
      "execution_count": 13,
      "outputs": [
        {
          "output_type": "execute_result",
          "data": {
            "text/plain": [
              "[2,\n",
              " 3,\n",
              " 5,\n",
              " 7,\n",
              " 11,\n",
              " 13,\n",
              " 17,\n",
              " 19,\n",
              " 23,\n",
              " 29,\n",
              " 31,\n",
              " 37,\n",
              " 41,\n",
              " 43,\n",
              " 47,\n",
              " 53,\n",
              " 59,\n",
              " 61,\n",
              " 67,\n",
              " 71,\n",
              " 73,\n",
              " 79,\n",
              " 83,\n",
              " 89,\n",
              " 97]"
            ]
          },
          "metadata": {},
          "execution_count": 13
        }
      ]
    },
    {
      "cell_type": "code",
      "source": [
        ""
      ],
      "metadata": {
        "id": "Dz3-hObek8c1"
      },
      "execution_count": null,
      "outputs": []
    }
  ]
}